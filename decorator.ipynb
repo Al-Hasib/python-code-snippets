{
 "cells": [
  {
   "cell_type": "markdown",
   "metadata": {},
   "source": [
    "Python Decorator"
   ]
  },
  {
   "cell_type": "code",
   "execution_count": 2,
   "metadata": {},
   "outputs": [
    {
     "name": "stdout",
     "output_type": "stream",
     "text": [
      "Before hello function\n",
      "Hello !!!\n",
      "Thanks for using function\n"
     ]
    }
   ],
   "source": [
    "# function decorator\n",
    "def welcome(fx):\n",
    "    def mfx(*t, **d):\n",
    "        print(\"Before hello function\")\n",
    "        fx(*t, **d) # *args to take the arguments as tuple, **kwargs to take arguments as dict\n",
    "        print(\"Thanks for using function\")\n",
    "    return mfx\n",
    "\n",
    "# decorator function without arguments\n",
    "@welcome\n",
    "def hello():\n",
    "    print(\"Hello !!!\")\n",
    "\n",
    "hello()"
   ]
  },
  {
   "cell_type": "code",
   "execution_count": 3,
   "metadata": {},
   "outputs": [
    {
     "name": "stdout",
     "output_type": "stream",
     "text": [
      "Before hello function\n",
      "4\n",
      "Thanks for using function\n"
     ]
    }
   ],
   "source": [
    "# decorate function with arguments\n",
    "@welcome\n",
    "def add(a,b):\n",
    "    print(a+b)\n",
    "\n",
    "add(1,3)"
   ]
  },
  {
   "cell_type": "code",
   "execution_count": 4,
   "metadata": {},
   "outputs": [
    {
     "data": {
      "text/plain": [
       "900"
      ]
     },
     "execution_count": 4,
     "metadata": {},
     "output_type": "execute_result"
    }
   ],
   "source": [
    "# Class Decorator\n",
    "\n",
    "class Calculator:\n",
    "    def __init__(self, func):\n",
    "        self.function = func\n",
    "    \n",
    "    def __call__(self, *args, **kwds):\n",
    "        result = self.function(*args, **kwds)\n",
    "        return result**2\n",
    "    \n",
    "@Calculator\n",
    "def add(a,b):\n",
    "    return a+b\n",
    "\n",
    "#add = Calculator(add)\n",
    "add(10,20) #add.__call__(a,b) since function type is callable"
   ]
  },
  {
   "cell_type": "code",
   "execution_count": 10,
   "metadata": {},
   "outputs": [
    {
     "name": "stdout",
     "output_type": "stream",
     "text": [
      "PASS\n",
      "Distinction\n",
      "PASS\n",
      "Distinction\n",
      "PASS\n",
      "PASS\n",
      "PASS\n",
      "Distinction\n",
      "PASS\n",
      "['PASS', 'PASS', 'PASS', 'PASS', 'PASS', 'PASS']\n"
     ]
    }
   ],
   "source": [
    "# Decorators are used to modify the behavior of functions or methods\n",
    "# without changing their code\n",
    "# Decorator function is a function that takes another functions as there argument\n",
    "\n",
    "def decor_result(result_function):\n",
    "    def distinction(marks):\n",
    "        results = []\n",
    "        for m in marks:\n",
    "            if m >= 75:\n",
    "                print(\"Distinction\")\n",
    "            results.append(result_function([m]))\n",
    "        return results\n",
    "    return distinction\n",
    "\n",
    "@decor_result\n",
    "def result(marks):\n",
    "    for m in marks:\n",
    "        if m >= 33:\n",
    "            pass\n",
    "        else:\n",
    "            print(\"FAIL\")\n",
    "            return \"FAIL\" # FAIL if any element fails\n",
    "    \n",
    "    print(\"PASS\")\n",
    "    return \"PASS\"   # PASS if  all elements pass\n",
    "\n",
    "results = result([45,78,80,43,66,90])   \n",
    "print(results)"
   ]
  },
  {
   "cell_type": "markdown",
   "metadata": {},
   "source": [
    "Iterators\n",
    "\n",
    "An Iterable is any python object that can be looped over or iterated. It can be a sequence (list, tuple, string), collection(set, dictionary) or any object that supports iteration.\n",
    "\n",
    "An iterator used to access the objects of the iterables one by one from first element to last element. An iterator is an object that represents a stream of data. It provides two essential methods: iter() and next()"
   ]
  },
  {
   "cell_type": "code",
   "execution_count": 11,
   "metadata": {},
   "outputs": [
    {
     "name": "stdout",
     "output_type": "stream",
     "text": [
      "23\n",
      "345\n",
      "23\n",
      "56\n",
      "34\n",
      "2\n",
      "546\n"
     ]
    }
   ],
   "source": [
    "list1 = [23,345,23,56,34,2,546]\n",
    "it = iter(list1)\n",
    "\n",
    "while True:\n",
    "    try:\n",
    "        print(next(it))\n",
    "    except StopIteration:\n",
    "        break"
   ]
  },
  {
   "cell_type": "markdown",
   "metadata": {},
   "source": [
    "Generators\n",
    "\n",
    "Generators in Python are a type of iterable, like lists or tuples, but they allow you to iterate over their elements lazily, one at a time, on the fly. This means that generators generate values as you need them, rather than storing all values in memory at once. This can be highly memory efficient, especially when dealing with large datasets or when generating an infinite sequence."
   ]
  },
  {
   "cell_type": "code",
   "execution_count": 13,
   "metadata": {},
   "outputs": [
    {
     "name": "stdout",
     "output_type": "stream",
     "text": [
      "[2, 4, 6, 8, 10, 12, 14, 16, 18, 20]\n"
     ]
    }
   ],
   "source": [
    "def evenNum(n):\n",
    "    i = 1\n",
    "    while n:\n",
    "        yield 2*i\n",
    "        i+=1\n",
    "        n-=1\n",
    "it = evenNum(10)\n",
    "evenList = []\n",
    "\n",
    "while True:\n",
    "    try:\n",
    "        evenList.append(next(it))\n",
    "    except StopIteration:\n",
    "        break\n",
    "print(evenList)"
   ]
  },
  {
   "cell_type": "markdown",
   "metadata": {},
   "source": [
    "Function Overloading in Python\n",
    "\n",
    "In python, function overloading as seen in languages like C++ or JAVA is not directly supported. But, It provides several ways to achieve similar behavior through default arguments, variable length arguments, and more advanced techniques like using functools.singledispatch\n",
    "\n"
   ]
  },
  {
   "cell_type": "code",
   "execution_count": 14,
   "metadata": {},
   "outputs": [
    {
     "name": "stdout",
     "output_type": "stream",
     "text": [
      "hello, Abdullah\n"
     ]
    }
   ],
   "source": [
    "# Default Arguments\n",
    "def greet(name, greeting=\"hello\"):\n",
    "    return f\"{greeting}, {name}\"\n",
    "print(greet(\"Abdullah\"))"
   ]
  },
  {
   "cell_type": "code",
   "execution_count": 15,
   "metadata": {},
   "outputs": [
    {
     "name": "stdout",
     "output_type": "stream",
     "text": [
      "57\n"
     ]
    }
   ],
   "source": [
    "# Variable Length Arguments\n",
    "# can use *args and **kwargs to accept a variable number of arguments\n",
    "def add(*t):\n",
    "    return sum(t)\n",
    "print(add(1,2,3,45,6))"
   ]
  },
  {
   "cell_type": "markdown",
   "metadata": {},
   "source": [
    "functools.singledispatch\n",
    "\n",
    "This decorator allows you to create a single dispatch generic function, which can have different implementations based o the type of the first argument."
   ]
  },
  {
   "cell_type": "code",
   "execution_count": 16,
   "metadata": {},
   "outputs": [
    {
     "name": "stdout",
     "output_type": "stream",
     "text": [
      "Processing an integer: 10\n",
      "Processing an String: hello\n"
     ]
    }
   ],
   "source": [
    "from functools import singledispatch\n",
    "\n",
    "@singledispatch\n",
    "def process(value):\n",
    "    raise NotImplemented(\"Unsupported type\")\n",
    "\n",
    "@process.register(int)\n",
    "def _(value):\n",
    "    return f\"Processing an integer: {value}\"\n",
    "\n",
    "@process.register(str)\n",
    "def _(value):\n",
    "    return f\"Processing an String: {value}\"\n",
    "\n",
    "print(process(10))\n",
    "print(process(\"hello\"))"
   ]
  },
  {
   "cell_type": "code",
   "execution_count": 3,
   "metadata": {},
   "outputs": [
    {
     "name": "stdout",
     "output_type": "stream",
     "text": [
      "6\n",
      "120\n"
     ]
    }
   ],
   "source": [
    "#overloading behavior using class methods\n",
    "class Math:\n",
    "    @staticmethod\n",
    "    def multiply(*t):\n",
    "        result = 1\n",
    "        for num in t:\n",
    "            result *= num\n",
    "        return result\n",
    "        \n",
    "print(Math.multiply(2,3))\n",
    "print(Math.multiply(2,3,4,5))"
   ]
  },
  {
   "cell_type": "markdown",
   "metadata": {},
   "source": [
    "Difference between sorted and sort function\n",
    "\n",
    "Sorted is a predefined function all the iterables which returns a new list in sorted form."
   ]
  },
  {
   "cell_type": "code",
   "execution_count": 4,
   "metadata": {},
   "outputs": [
    {
     "name": "stdout",
     "output_type": "stream",
     "text": [
      "[3, 4, 23, 32, 44, 54, 54, 67]\n",
      "<class 'list'>\n"
     ]
    }
   ],
   "source": [
    "lst1 = (32,3,54,23,54,4,44,67)\n",
    "sorted_lst1 = sorted(lst1)\n",
    "print(sorted_lst1)\n",
    "print(type(sorted_lst1))"
   ]
  },
  {
   "cell_type": "code",
   "execution_count": 6,
   "metadata": {},
   "outputs": [
    {
     "name": "stdout",
     "output_type": "stream",
     "text": [
      "<class 'list'>\n",
      "[3, 4, 23, 32, 44, 54, 54, 67]\n"
     ]
    }
   ],
   "source": [
    "lst1 = [32,3,54,23,54,4,44,67]\n",
    "lst1.sort()\n",
    "print(type(lst1))\n",
    "print(lst1)"
   ]
  },
  {
   "cell_type": "code",
   "execution_count": 9,
   "metadata": {},
   "outputs": [
    {
     "name": "stdout",
     "output_type": "stream",
     "text": [
      "SortedList([3, 4, 23, 32, 44, 45, 54, 54, 67])\n"
     ]
    }
   ],
   "source": [
    "# !pip install sortedcontainers\n",
    "# to add element to list in sorted manner\n",
    "from sortedcontainers import SortedList\n",
    "lst1 = [32,3,54,23,54,4,44,67]\n",
    "l3 = SortedList(lst1)\n",
    "l3.add(45)\n",
    "print(l3)"
   ]
  },
  {
   "cell_type": "markdown",
   "metadata": {},
   "source": [
    "Creating static member variables in CLASS\n",
    "\n",
    "Static Variables are shared among all instances of a class and are typically used to store class level data.\n",
    "\n",
    "Use @classmethod when you need to access or modify the class state or call the method on the class itself. \n",
    "\n",
    "use @staticmethod for utility functions that don't need to access or modify class or instance state but logically belong to the class"
   ]
  },
  {
   "cell_type": "code",
   "execution_count": null,
   "metadata": {},
   "outputs": [],
   "source": [
    "class myclass:\n",
    "    a = 5\n",
    "    def __init__(self):\n",
    "        self.x = 10\n",
    "        y = 4\n",
    "        myclass.b = 34\n",
    "    def f1(self):\n",
    "        myclass.c = 65\n",
    "    @staticmethod\n",
    "    def f2(self):\n",
    "        myclass.d = 66\n",
    "    @classmethod\n",
    "    def f3(cls):\n",
    "        cls.e = 15\n",
    "        myclass.f = 53\n",
    "\n",
    "myclass.g = 11"
   ]
  },
  {
   "cell_type": "markdown",
   "metadata": {},
   "source": [
    "use else with loop\n",
    "\n",
    "Else can be used with if and while loops. After the break statement in the loop the else statement is not executed. Else statement is only executed when the condition of the loop is false."
   ]
  },
  {
   "cell_type": "code",
   "execution_count": 11,
   "metadata": {},
   "outputs": [
    {
     "name": "stdout",
     "output_type": "stream",
     "text": [
      "0 1 2 3 4 5 6 7 8 9 You are in else block\n"
     ]
    }
   ],
   "source": [
    "for i in range(10):\n",
    "    print(i, end=\" \")\n",
    "    if i==15:\n",
    "        break\n",
    "else:\n",
    "    print(\"You are in else block\")"
   ]
  },
  {
   "cell_type": "markdown",
   "metadata": {},
   "source": [
    "Name Mingling in Python\n",
    "\n",
    "A variable is initialized with double underscore, its name is automatically changed by python to __class__variable Name. It used to generate the unique names for entities like functions and varibales to avoid name collisions. It is used for Avoiding name collisions, supporting function overloading, encapsulating namespaces and classes, linker compatibility, debugging and maintainance"
   ]
  },
  {
   "cell_type": "code",
   "execution_count": 1,
   "metadata": {},
   "outputs": [
    {
     "name": "stdout",
     "output_type": "stream",
     "text": [
      "10\n",
      "20\n"
     ]
    }
   ],
   "source": [
    "class world:\n",
    "    x = 10\n",
    "    __bangladesh = 20\n",
    "\n",
    "print(world.x)\n",
    "print(world._world__bangladesh)"
   ]
  },
  {
   "cell_type": "markdown",
   "metadata": {},
   "source": [
    "Difference between class object and instance object\n",
    "\n",
    "Class object is called only once but instance object can be called any number of times."
   ]
  },
  {
   "cell_type": "code",
   "execution_count": 2,
   "metadata": {},
   "outputs": [
    {
     "name": "stdout",
     "output_type": "stream",
     "text": [
      "20\n",
      "30\n",
      "40\n"
     ]
    }
   ],
   "source": [
    "class test:\n",
    "    x = 20 #class argument\n",
    "    def __init__(self, a, b):\n",
    "        self.a = a # instance argument\n",
    "        self.b = b # instance argument\n",
    "\n",
    "print(test.x) # class object\n",
    "t1 = test(30,40)\n",
    "# instance objects\n",
    "print(t1.a)\n",
    "print(t1.b)"
   ]
  },
  {
   "cell_type": "markdown",
   "metadata": {},
   "source": [
    "Multiple inheritance\n",
    "\n",
    "When a class inherits attributes from more than one class, then it is called mulitple inhertance and python supports it."
   ]
  },
  {
   "cell_type": "code",
   "execution_count": 3,
   "metadata": {},
   "outputs": [],
   "source": [
    "class A:\n",
    "    pass\n",
    "\n",
    "class B:\n",
    "    pass\n",
    "\n",
    "class C(A,B):\n",
    "    pass"
   ]
  },
  {
   "cell_type": "markdown",
   "metadata": {},
   "source": [
    "Monkey patching\n",
    "\n",
    "It replace a function object with a new function object, so that the function is now pointing to new function object. Mostly used when you want to replace a function for testing purpose."
   ]
  },
  {
   "cell_type": "code",
   "execution_count": 5,
   "metadata": {},
   "outputs": [
    {
     "name": "stdout",
     "output_type": "stream",
     "text": [
      "before Monkey Patching\n",
      "Hello world\n",
      "\n",
      "After Monkey Patching\n",
      "Hello World after patching\n"
     ]
    }
   ],
   "source": [
    "class Test:\n",
    "    def __init__(self,x):\n",
    "        self.a = x\n",
    "    def get_data(self):\n",
    "        print(\"Hello world\\n\")\n",
    "    def f1(self):\n",
    "        self.get_data()\n",
    "\n",
    "t1 = Test(1)\n",
    "print(\"before Monkey Patching\")\n",
    "t1.f1()\n",
    "\n",
    "def get_new_data(self):\n",
    "    print(\"Hello World after patching\")\n",
    "\n",
    "Test.get_data = get_new_data\n",
    "print(\"After Monkey Patching\")\n",
    "t1.f1()"
   ]
  },
  {
   "cell_type": "code",
   "execution_count": 1,
   "metadata": {},
   "outputs": [
    {
     "name": "stdout",
     "output_type": "stream",
     "text": [
      "This is a class method\n",
      "Using class variable: I am a class variable\n"
     ]
    }
   ],
   "source": [
    "#classmethod\n",
    "\n",
    "class Myclass:\n",
    "    a = \"I am a class variable\"\n",
    "\n",
    "    def __init__(self,len):\n",
    "        self.length = len\n",
    "\n",
    "    @classmethod\n",
    "    def class_method(cls):\n",
    "        print(\"This is a class method\")\n",
    "        print(f\"Using class variable: {cls.a}\")\n",
    "    \n",
    "# using class method without creating an instance\n",
    "Myclass.class_method()"
   ]
  },
  {
   "cell_type": "code",
   "execution_count": 2,
   "metadata": {},
   "outputs": [
    {
     "name": "stdout",
     "output_type": "stream",
     "text": [
      "3\n"
     ]
    }
   ],
   "source": [
    "class InstanceCounter:\n",
    "    count = 0\n",
    "\n",
    "    def __init__(self):\n",
    "        # each time an instance is created, increment the count\n",
    "        InstanceCounter.count+=1\n",
    "    \n",
    "    @classmethod\n",
    "    def get_instance_count(cls):\n",
    "        return cls.count\n",
    "\n",
    "instance1 = InstanceCounter()\n",
    "instance2 = InstanceCounter()\n",
    "instance3 = InstanceCounter()\n",
    "\n",
    "# using class method to get the instance count\n",
    "total_instances = InstanceCounter.get_instance_count()\n",
    "print(total_instances)"
   ]
  },
  {
   "cell_type": "code",
   "execution_count": 3,
   "metadata": {},
   "outputs": [
    {
     "name": "stdout",
     "output_type": "stream",
     "text": [
      "This is a static method\n",
      "It doesn't have access to instance variables or self.\n"
     ]
    }
   ],
   "source": [
    "# static method\n",
    "class Myclass:\n",
    "    variable = \"I am a class variable\"\n",
    "\n",
    "    def __init__(self, instance_variable):\n",
    "        self.instance_variable = instance_variable\n",
    "\n",
    "    @staticmethod\n",
    "    def static_method():\n",
    "        print(\"This is a static method\")\n",
    "        print(\"It doesn't have access to instance variables or self.\")\n",
    "# using the static method without creating an instance\n",
    "Myclass.static_method()"
   ]
  },
  {
   "cell_type": "code",
   "execution_count": 4,
   "metadata": {},
   "outputs": [
    {
     "name": "stdout",
     "output_type": "stream",
     "text": [
      "Addition: 8\n",
      "Subtraction: 4\n",
      "Multiplication: 12\n",
      "Division: 2.0\n"
     ]
    }
   ],
   "source": [
    "# static method for calculator \n",
    "class Calculator:\n",
    "    @staticmethod\n",
    "    def add(x,y):\n",
    "        return x+y\n",
    "    \n",
    "    @staticmethod\n",
    "    def subtract(x,y):\n",
    "        return x-y\n",
    "    \n",
    "    @staticmethod\n",
    "    def multiply(x,y):\n",
    "        return x*y\n",
    "    \n",
    "    @staticmethod\n",
    "    def divide(x,y):\n",
    "        if y!=0:\n",
    "            return x/y\n",
    "        else:\n",
    "            print(\"Can't divide by zero.\")\n",
    "            return None\n",
    "        \n",
    "# using static method without creating an instance\n",
    "result_add = Calculator.add(5,3)\n",
    "print(f\"Addition: {result_add}\")\n",
    "\n",
    "result_subtract = Calculator.subtract(8,4)\n",
    "print(f\"Subtraction: {result_subtract}\")\n",
    "\n",
    "result_multiply = Calculator.multiply(4,3)\n",
    "print(f\"Multiplication: {result_multiply}\")\n",
    "\n",
    "result_divide = Calculator.divide(4,2)\n",
    "print(f\"Division: {result_divide}\")"
   ]
  },
  {
   "cell_type": "code",
   "execution_count": 5,
   "metadata": {},
   "outputs": [
    {
     "name": "stdout",
     "output_type": "stream",
     "text": [
      "2\n",
      "area: 12.56\n"
     ]
    }
   ],
   "source": [
    "# property decorator\n",
    "# defines setter, getter, and deleter methods for a class\n",
    "# encapsulate the access and modification of attributes\n",
    "class circle:\n",
    "    def __init__(self, redius):\n",
    "        self._redius = redius\n",
    "\n",
    "    @property\n",
    "    def redius(self):\n",
    "        return self._redius\n",
    "    \n",
    "    @redius.setter\n",
    "    def radius(self,value):\n",
    "        #setter method for radium\n",
    "        if value <0:\n",
    "            raise ValueError(\"Value can not be negative\")\n",
    "        self._redius = value\n",
    "    \n",
    "    @property\n",
    "    def area(self):\n",
    "        return 3.14 * self._redius**2\n",
    "    \n",
    "obj = circle(redius=2)\n",
    "print(obj.redius)\n",
    "print(f\"area: {obj.area}\")"
   ]
  },
  {
   "cell_type": "code",
   "execution_count": 8,
   "metadata": {},
   "outputs": [
    {
     "name": "stdout",
     "output_type": "stream",
     "text": [
      "6, 8\n",
      "8, 15\n"
     ]
    }
   ],
   "source": [
    "# Operator Overloading\n",
    "# __add__ mehtod allows to use the + op0erator between two instances\n",
    "# __mul__method\n",
    "# __rmul__method\n",
    "# __repr__ method\n",
    "\n",
    "class Point:\n",
    "    def __init__(self, x=0, y=0):\n",
    "        self.x = x\n",
    "        self.y = y\n",
    "\n",
    "    def __add__(self, other):\n",
    "        return Point(self.x+other.x, self.y+other.y)\n",
    "    \n",
    "    def __mul__(self, other):\n",
    "        if isinstance(other, Point):\n",
    "            return Point(self.x*other.x, self.y*other.y)\n",
    "        else:\n",
    "            return Point(self.x*other, self.y * other)\n",
    "    \n",
    "    def __rmul__(self, other):\n",
    "        return Point(self.x*other, self.y*other)\n",
    "    \n",
    "    def __repr__(self):\n",
    "        return (f\"{self.x}, {self.y}\")\n",
    "    \n",
    "p1 = Point(2,3)\n",
    "p2 = Point(4,5)\n",
    "\n",
    "print(p1+p2)\n",
    "print(p1*p2)\n"
   ]
  },
  {
   "cell_type": "code",
   "execution_count": null,
   "metadata": {},
   "outputs": [],
   "source": []
  }
 ],
 "metadata": {
  "kernelspec": {
   "display_name": "Python 3",
   "language": "python",
   "name": "python3"
  },
  "language_info": {
   "codemirror_mode": {
    "name": "ipython",
    "version": 3
   },
   "file_extension": ".py",
   "mimetype": "text/x-python",
   "name": "python",
   "nbconvert_exporter": "python",
   "pygments_lexer": "ipython3",
   "version": "3.12.3"
  }
 },
 "nbformat": 4,
 "nbformat_minor": 2
}
