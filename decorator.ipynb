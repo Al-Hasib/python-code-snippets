{
 "cells": [
  {
   "cell_type": "markdown",
   "metadata": {},
   "source": [
    "Python Decorator"
   ]
  },
  {
   "cell_type": "code",
   "execution_count": 2,
   "metadata": {},
   "outputs": [
    {
     "name": "stdout",
     "output_type": "stream",
     "text": [
      "Before hello function\n",
      "Hello !!!\n",
      "Thanks for using function\n"
     ]
    }
   ],
   "source": [
    "# function decorator\n",
    "def welcome(fx):\n",
    "    def mfx(*t, **d):\n",
    "        print(\"Before hello function\")\n",
    "        fx(*t, **d) # *args to take the arguments as tuple, **kwargs to take arguments as dict\n",
    "        print(\"Thanks for using function\")\n",
    "    return mfx\n",
    "\n",
    "# decorator function without arguments\n",
    "@welcome\n",
    "def hello():\n",
    "    print(\"Hello !!!\")\n",
    "\n",
    "hello()"
   ]
  },
  {
   "cell_type": "code",
   "execution_count": 3,
   "metadata": {},
   "outputs": [
    {
     "name": "stdout",
     "output_type": "stream",
     "text": [
      "Before hello function\n",
      "4\n",
      "Thanks for using function\n"
     ]
    }
   ],
   "source": [
    "# decorate function with arguments\n",
    "@welcome\n",
    "def add(a,b):\n",
    "    print(a+b)\n",
    "\n",
    "add(1,3)"
   ]
  },
  {
   "cell_type": "code",
   "execution_count": 4,
   "metadata": {},
   "outputs": [
    {
     "data": {
      "text/plain": [
       "900"
      ]
     },
     "execution_count": 4,
     "metadata": {},
     "output_type": "execute_result"
    }
   ],
   "source": [
    "# Class Decorator\n",
    "\n",
    "class Calculator:\n",
    "    def __init__(self, func):\n",
    "        self.function = func\n",
    "    \n",
    "    def __call__(self, *args, **kwds):\n",
    "        result = self.function(*args, **kwds)\n",
    "        return result**2\n",
    "    \n",
    "@Calculator\n",
    "def add(a,b):\n",
    "    return a+b\n",
    "\n",
    "#add = Calculator(add)\n",
    "add(10,20) #add.__call__(a,b) since function type is callable"
   ]
  },
  {
   "cell_type": "code",
   "execution_count": 10,
   "metadata": {},
   "outputs": [
    {
     "name": "stdout",
     "output_type": "stream",
     "text": [
      "PASS\n",
      "Distinction\n",
      "PASS\n",
      "Distinction\n",
      "PASS\n",
      "PASS\n",
      "PASS\n",
      "Distinction\n",
      "PASS\n",
      "['PASS', 'PASS', 'PASS', 'PASS', 'PASS', 'PASS']\n"
     ]
    }
   ],
   "source": [
    "# Decorators are used to modify the behavior of functions or methods\n",
    "# without changing their code\n",
    "# Decorator function is a function that takes another functions as there argument\n",
    "\n",
    "def decor_result(result_function):\n",
    "    def distinction(marks):\n",
    "        results = []\n",
    "        for m in marks:\n",
    "            if m >= 75:\n",
    "                print(\"Distinction\")\n",
    "            results.append(result_function([m]))\n",
    "        return results\n",
    "    return distinction\n",
    "\n",
    "@decor_result\n",
    "def result(marks):\n",
    "    for m in marks:\n",
    "        if m >= 33:\n",
    "            pass\n",
    "        else:\n",
    "            print(\"FAIL\")\n",
    "            return \"FAIL\" # FAIL if any element fails\n",
    "    \n",
    "    print(\"PASS\")\n",
    "    return \"PASS\"   # PASS if  all elements pass\n",
    "\n",
    "results = result([45,78,80,43,66,90])   \n",
    "print(results)"
   ]
  },
  {
   "cell_type": "markdown",
   "metadata": {},
   "source": [
    "Iterators\n",
    "\n",
    "An Iterable is any python object that can be looped over or iterated. It can be a sequence (list, tuple, string), collection(set, dictionary) or any object that supports iteration.\n",
    "\n",
    "An iterator used to access the objects of the iterables one by one from first element to last element. An iterator is an object that represents a stream of data. It provides two essential methods: iter() and next()"
   ]
  },
  {
   "cell_type": "code",
   "execution_count": 11,
   "metadata": {},
   "outputs": [
    {
     "name": "stdout",
     "output_type": "stream",
     "text": [
      "23\n",
      "345\n",
      "23\n",
      "56\n",
      "34\n",
      "2\n",
      "546\n"
     ]
    }
   ],
   "source": [
    "list1 = [23,345,23,56,34,2,546]\n",
    "it = iter(list1)\n",
    "\n",
    "while True:\n",
    "    try:\n",
    "        print(next(it))\n",
    "    except StopIteration:\n",
    "        break"
   ]
  },
  {
   "cell_type": "markdown",
   "metadata": {},
   "source": [
    "Generators\n",
    "\n",
    "Generators in Python are a type of iterable, like lists or tuples, but they allow you to iterate over their elements lazily, one at a time, on the fly. This means that generators generate values as you need them, rather than storing all values in memory at once. This can be highly memory efficient, especially when dealing with large datasets or when generating an infinite sequence."
   ]
  },
  {
   "cell_type": "code",
   "execution_count": 13,
   "metadata": {},
   "outputs": [
    {
     "name": "stdout",
     "output_type": "stream",
     "text": [
      "[2, 4, 6, 8, 10, 12, 14, 16, 18, 20]\n"
     ]
    }
   ],
   "source": [
    "def evenNum(n):\n",
    "    i = 1\n",
    "    while n:\n",
    "        yield 2*i\n",
    "        i+=1\n",
    "        n-=1\n",
    "it = evenNum(10)\n",
    "evenList = []\n",
    "\n",
    "while True:\n",
    "    try:\n",
    "        evenList.append(next(it))\n",
    "    except StopIteration:\n",
    "        break\n",
    "print(evenList)"
   ]
  },
  {
   "cell_type": "markdown",
   "metadata": {},
   "source": [
    "Function Overloading in Python\n",
    "\n",
    "In python, function overloading as seen in languages like C++ or JAVA is not directly supported. But, It provides several ways to achieve similar behavior through default arguments, variable length arguments, and more advanced techniques like using functools.singledispatch\n",
    "\n"
   ]
  },
  {
   "cell_type": "code",
   "execution_count": 14,
   "metadata": {},
   "outputs": [
    {
     "name": "stdout",
     "output_type": "stream",
     "text": [
      "hello, Abdullah\n"
     ]
    }
   ],
   "source": [
    "# Default Arguments\n",
    "def greet(name, greeting=\"hello\"):\n",
    "    return f\"{greeting}, {name}\"\n",
    "print(greet(\"Abdullah\"))"
   ]
  },
  {
   "cell_type": "code",
   "execution_count": 15,
   "metadata": {},
   "outputs": [
    {
     "name": "stdout",
     "output_type": "stream",
     "text": [
      "57\n"
     ]
    }
   ],
   "source": [
    "# Variable Length Arguments\n",
    "# can use *args and **kwargs to accept a variable number of arguments\n",
    "def add(*t):\n",
    "    return sum(t)\n",
    "print(add(1,2,3,45,6))"
   ]
  },
  {
   "cell_type": "markdown",
   "metadata": {},
   "source": [
    "functools.singledispatch\n",
    "\n",
    "This decorator allows you to create a single dispatch generic function, which can have different implementations based o the type of the first argument."
   ]
  },
  {
   "cell_type": "code",
   "execution_count": 16,
   "metadata": {},
   "outputs": [
    {
     "name": "stdout",
     "output_type": "stream",
     "text": [
      "Processing an integer: 10\n",
      "Processing an String: hello\n"
     ]
    }
   ],
   "source": [
    "from functools import singledispatch\n",
    "\n",
    "@singledispatch\n",
    "def process(value):\n",
    "    raise NotImplemented(\"Unsupported type\")\n",
    "\n",
    "@process.register(int)\n",
    "def _(value):\n",
    "    return f\"Processing an integer: {value}\"\n",
    "\n",
    "@process.register(str)\n",
    "def _(value):\n",
    "    return f\"Processing an String: {value}\"\n",
    "\n",
    "print(process(10))\n",
    "print(process(\"hello\"))"
   ]
  },
  {
   "cell_type": "code",
   "execution_count": null,
   "metadata": {},
   "outputs": [],
   "source": []
  }
 ],
 "metadata": {
  "kernelspec": {
   "display_name": "Python 3",
   "language": "python",
   "name": "python3"
  },
  "language_info": {
   "codemirror_mode": {
    "name": "ipython",
    "version": 3
   },
   "file_extension": ".py",
   "mimetype": "text/x-python",
   "name": "python",
   "nbconvert_exporter": "python",
   "pygments_lexer": "ipython3",
   "version": "3.12.3"
  }
 },
 "nbformat": 4,
 "nbformat_minor": 2
}
