{
 "cells": [
  {
   "cell_type": "markdown",
   "metadata": {},
   "source": [
    "Converting Integer Into Decimals"
   ]
  },
  {
   "cell_type": "code",
   "execution_count": 6,
   "metadata": {},
   "outputs": [
    {
     "name": "stdout",
     "output_type": "stream",
     "text": [
      "10\n",
      "<class 'decimal.Decimal'>\n"
     ]
    }
   ],
   "source": [
    "import decimal \n",
    "integer = 10\n",
    "print(decimal.Decimal(integer))\n",
    "print(type(decimal.Decimal(integer)))"
   ]
  },
  {
   "cell_type": "markdown",
   "metadata": {},
   "source": [
    "Convert string of integers into decimals"
   ]
  },
  {
   "cell_type": "code",
   "execution_count": 7,
   "metadata": {},
   "outputs": [
    {
     "name": "stdout",
     "output_type": "stream",
     "text": [
      "12345\n",
      "<class 'decimal.Decimal'>\n"
     ]
    }
   ],
   "source": [
    "string = \"12345\"\n",
    "print(decimal.Decimal(string))\n",
    "print(type(decimal.Decimal(string)))"
   ]
  },
  {
   "cell_type": "markdown",
   "metadata": {},
   "source": [
    "Reverse string using extended Slicing technique"
   ]
  },
  {
   "cell_type": "code",
   "execution_count": 8,
   "metadata": {},
   "outputs": [
    {
     "name": "stdout",
     "output_type": "stream",
     "text": [
      "gnimmargorP nohtyP evoL I\n"
     ]
    }
   ],
   "source": [
    "string = \"I Love Python Programming\"\n",
    "print(string[::-1])"
   ]
  },
  {
   "cell_type": "markdown",
   "metadata": {},
   "source": [
    "Counting Vowels & Consonants"
   ]
  },
  {
   "cell_type": "code",
   "execution_count": 10,
   "metadata": {},
   "outputs": [
    {
     "name": "stdout",
     "output_type": "stream",
     "text": [
      "Total Charaters of string: 25\n",
      "Number of Vowels: 7\n",
      "Number of Consonants: 18\n"
     ]
    }
   ],
   "source": [
    "vowel = [\"a\",\"e\",\"i\",\"o\",\"u\"]\n",
    "string = \"I Love Python Programming\"\n",
    "vowel_count = 0\n",
    "consonant_count = 0\n",
    "\n",
    "for character in string:\n",
    "    # increase vowel count if character is vowel\n",
    "    if character.lower() in vowel:\n",
    "        vowel_count+=1\n",
    "    # increase consonant count if character is consonant\n",
    "    else:\n",
    "        consonant_count+=1\n",
    "\n",
    "print(f\"Total Charaters of string: {len(string)}\")        \n",
    "print(f\"Number of Vowels: {vowel_count}\")\n",
    "print(f\"Number of Consonants: {consonant_count}\")"
   ]
  },
  {
   "cell_type": "markdown",
   "metadata": {},
   "source": [
    "Counting the number of Occurances of a Charater in string"
   ]
  },
  {
   "cell_type": "code",
   "execution_count": 12,
   "metadata": {},
   "outputs": [
    {
     "name": "stdout",
     "output_type": "stream",
     "text": [
      "g occurs in 2 times in programming\n"
     ]
    }
   ],
   "source": [
    "word = \"programming\"\n",
    "character = \"g\"\n",
    "count = 0\n",
    "\n",
    "for i in word:\n",
    "    if i==character:\n",
    "        count+=1\n",
    "print(f\"{character} occurs in {count} times in {word}\")"
   ]
  },
  {
   "cell_type": "markdown",
   "metadata": {},
   "source": [
    "Writing Fibonacci Series"
   ]
  },
  {
   "cell_type": "code",
   "execution_count": 14,
   "metadata": {},
   "outputs": [
    {
     "name": "stdout",
     "output_type": "stream",
     "text": [
      "For 10 fibonacci series: \n",
      "[0, 1, 1, 2, 3, 5, 8, 13, 21, 34, 55, 89]\n"
     ]
    }
   ],
   "source": [
    "fib = [0,1]\n",
    "\n",
    "n = 10\n",
    "for i in range(n):\n",
    "    fib.append(fib[-1] + fib[-2])\n",
    "\n",
    "print(f\"For {n} fibonacci series: \\n{fib}\")"
   ]
  },
  {
   "cell_type": "markdown",
   "metadata": {},
   "source": [
    "Finding Maximum & Minimum Numbers in a List"
   ]
  },
  {
   "cell_type": "code",
   "execution_count": 15,
   "metadata": {},
   "outputs": [
    {
     "name": "stdout",
     "output_type": "stream",
     "text": [
      "Maximum number : 77\n",
      "Minimum number : 2\n"
     ]
    }
   ],
   "source": [
    "numberList = [12,2,3,34,45,77,5,66]\n",
    "maximum_number = numberList[0]\n",
    "minimum_number = numberList[0]\n",
    "\n",
    "for num in numberList:\n",
    "    if maximum_number < num:\n",
    "        maximum_number = num\n",
    "    if minimum_number > num:\n",
    "        minimum_number = num\n",
    "\n",
    "print(f\"Maximum number : {maximum_number}\")\n",
    "print(f\"Minimum number : {minimum_number}\")"
   ]
  },
  {
   "cell_type": "markdown",
   "metadata": {},
   "source": [
    "Finding the Middle Element in a list"
   ]
  },
  {
   "cell_type": "code",
   "execution_count": 16,
   "metadata": {},
   "outputs": [
    {
     "name": "stdout",
     "output_type": "stream",
     "text": [
      "Middle Element : 45\n"
     ]
    }
   ],
   "source": [
    "numberList = [12,2,3,34,45,77,5,66]\n",
    "midElementIndex = int(len(numberList)/2)\n",
    "print(f\"Middle Element : {numberList[midElementIndex]}\")"
   ]
  },
  {
   "cell_type": "markdown",
   "metadata": {},
   "source": [
    "Converting a list into String"
   ]
  },
  {
   "cell_type": "code",
   "execution_count": 18,
   "metadata": {},
   "outputs": [
    {
     "name": "stdout",
     "output_type": "stream",
     "text": [
      "PYTHON\n",
      "<class 'str'>\n"
     ]
    }
   ],
   "source": [
    "list = [\"P\",\"Y\",\"T\",\"H\",\"O\",\"N\"]\n",
    "string = \"\".join(list)\n",
    "\n",
    "print(string)\n",
    "print(type(string))"
   ]
  },
  {
   "cell_type": "markdown",
   "metadata": {},
   "source": [
    "Adding Two list Elements together"
   ]
  },
  {
   "cell_type": "code",
   "execution_count": 19,
   "metadata": {},
   "outputs": [
    {
     "name": "stdout",
     "output_type": "stream",
     "text": [
      "[5, 7, 9]\n"
     ]
    }
   ],
   "source": [
    "firstList = [1,2,3]\n",
    "secondList = [4,5,6]\n",
    "result_list = []\n",
    "\n",
    "for i in range(0,len(firstList)):\n",
    "    result_list.append(firstList[i] + secondList[i])\n",
    "print(result_list)"
   ]
  },
  {
   "cell_type": "markdown",
   "metadata": {},
   "source": [
    "Comparing Two string for ANAGRAMS"
   ]
  },
  {
   "cell_type": "code",
   "execution_count": 20,
   "metadata": {},
   "outputs": [
    {
     "name": "stdout",
     "output_type": "stream",
     "text": [
      "Strings are ANAGRAMS\n"
     ]
    }
   ],
   "source": [
    "str1 = \"Listen\"\n",
    "str2 = \"Silent\"\n",
    "\n",
    "string1 = str1.replace(\" \",\"\").upper()\n",
    "string2 = str2.replace(\" \",\"\").upper()\n",
    "\n",
    "if sorted(string1) == sorted(string2):\n",
    "    print(\"Strings are ANAGRAMS\")\n",
    "else:\n",
    "    print(\"Strings are not ANAGRAMS\")"
   ]
  },
  {
   "cell_type": "markdown",
   "metadata": {},
   "source": [
    "Checking PALINDROME in a String using Extended Slicing Technique"
   ]
  },
  {
   "cell_type": "code",
   "execution_count": 21,
   "metadata": {},
   "outputs": [
    {
     "name": "stdout",
     "output_type": "stream",
     "text": [
      "String is PALINDROME\n"
     ]
    }
   ],
   "source": [
    "string = \"Wow\".lower()\n",
    "\n",
    "if string == string[::-1]:\n",
    "    print(\"String is PALINDROME\")\n",
    "else:\n",
    "    print(\"Not PALINDROME\")"
   ]
  },
  {
   "cell_type": "markdown",
   "metadata": {},
   "source": [
    "Extracting Digits, Letters, Spaces, White Spaces from String"
   ]
  },
  {
   "cell_type": "code",
   "execution_count": 27,
   "metadata": {},
   "outputs": [
    {
     "name": "stdout",
     "output_type": "stream",
     "text": [
      "Digits     : 20\n",
      "letters    : ILovePythonProgrammingfordays\n",
      "spaces     : [' ', ' ', ' ', ' ', ' ', ' ', ' ', ' ', ' ', ' ']\n",
      "whitespaces: ['\\t', ' ', ' ', ' ', ' ', ' ', ' ', ' ', ' ', ' ', ' ', '\\n']\n"
     ]
    }
   ],
   "source": [
    "#importing regular expression library\n",
    "import re\n",
    "string = \"\\t  I Love Python Programming   for 20 days\\n\"\n",
    "\n",
    "digits = re.sub(\"[^0-9]\",\"\",string)\n",
    "letters = re.sub(\"[^a-zA-Z]\",\"\",string)\n",
    "spaces = [char for char in string if char == \" \"]\n",
    "whitespaces = [char for char in string if char.isspace()]\n",
    "\n",
    "print(f\"Digits     : {digits}\")\n",
    "print(f\"letters    : {letters}\")\n",
    "print(f\"spaces     : {spaces}\")\n",
    "print(f\"whitespaces: {whitespaces}\")"
   ]
  },
  {
   "cell_type": "markdown",
   "metadata": {},
   "source": [
    "Counting Special Characters in a String"
   ]
  },
  {
   "cell_type": "code",
   "execution_count": 29,
   "metadata": {},
   "outputs": [
    {
     "name": "stdout",
     "output_type": "stream",
     "text": [
      "5\n"
     ]
    }
   ],
   "source": [
    "def countSpecialCharaters(string):\n",
    "    special_char = \"!@#$%^&*()<>?/\\\\[]{};:~`\" \n",
    "    count = 0\n",
    "    for i in string:\n",
    "        if i in special_char:\n",
    "            count+=1\n",
    "    return count\n",
    "\n",
    "text = 'Hello! How are you? I have 10$ #special! 123'\n",
    "result = countSpecialCharaters(text)\n",
    "print(result)"
   ]
  },
  {
   "cell_type": "markdown",
   "metadata": {},
   "source": [
    "Removing ALL Whitespaces in a String"
   ]
  },
  {
   "cell_type": "code",
   "execution_count": 31,
   "metadata": {},
   "outputs": [
    {
     "name": "stdout",
     "output_type": "stream",
     "text": [
      "CODE\n",
      "CODE\n"
     ]
    }
   ],
   "source": [
    "string = \"C O D E\"\n",
    "result_string = \"\".join(char for char in string if char!=\" \")\n",
    "print(result_string)\n",
    "\n",
    "# Another way\n",
    "result_string2 = string.replace(\" \",\"\")\n",
    "print(result_string2)"
   ]
  },
  {
   "cell_type": "markdown",
   "metadata": {},
   "source": [
    "Randomizing the item of a List"
   ]
  },
  {
   "cell_type": "code",
   "execution_count": 33,
   "metadata": {},
   "outputs": [
    {
     "name": "stdout",
     "output_type": "stream",
     "text": [
      "['is', 'Python', 'Easy']\n"
     ]
    }
   ],
   "source": [
    "from random import shuffle\n",
    "\n",
    "items = ['Python', \"is\", \"Easy\"]\n",
    "shuffle(items)\n",
    "print(items)"
   ]
  },
  {
   "cell_type": "markdown",
   "metadata": {},
   "source": [
    "Split and Join function of String"
   ]
  },
  {
   "cell_type": "code",
   "execution_count": 35,
   "metadata": {},
   "outputs": [
    {
     "name": "stdout",
     "output_type": "stream",
     "text": [
      "['Python', 'is', 'one', 'of', 'the', 'best', 'Languages', 'in', 'the', 'World']\n",
      "['World', 'the', 'in', 'Languages', 'best', 'the', 'of', 'one', 'is', 'Python']\n",
      "World the in Languages best the of one is Python\n"
     ]
    }
   ],
   "source": [
    "s = \"Python is one of the best Languages in the World\"\n",
    "split_string = s.split(\" \")\n",
    "print(split_string)\n",
    "reversed_split_string = split_string[::-1]\n",
    "print(reversed_split_string)\n",
    "# join the converted list again into string\n",
    "print(\" \".join(reversed_split_string))"
   ]
  },
  {
   "cell_type": "markdown",
   "metadata": {},
   "source": [
    "Global and Local Variable"
   ]
  },
  {
   "cell_type": "code",
   "execution_count": 39,
   "metadata": {},
   "outputs": [
    {
     "name": "stdout",
     "output_type": "stream",
     "text": [
      "x : 15, y: 10\n",
      "15\n",
      "local varibale of x: 10 and global of x: 15\n"
     ]
    }
   ],
   "source": [
    "x = 5 # global variable\n",
    "\n",
    "def f1():\n",
    "    global x\n",
    "    x = 15 # global variable updated\n",
    "    y = 10 # local variable\n",
    "    print(f\"x : {x}, y: {y}\")\n",
    "f1()\n",
    "print(x)\n",
    "\n",
    "def fun():\n",
    "    x = 10 #local variable\n",
    "    d = globals()\n",
    "    print(f\"local varibale of x: {x} and global of x: {d['x']}\")\n",
    "fun()"
   ]
  },
  {
   "cell_type": "markdown",
   "metadata": {},
   "source": [
    "Extract int type values form a list of heterogeneous elements"
   ]
  },
  {
   "cell_type": "code",
   "execution_count": 1,
   "metadata": {},
   "outputs": [
    {
     "name": "stdout",
     "output_type": "stream",
     "text": [
      "[23, 232, 345]\n"
     ]
    }
   ],
   "source": [
    "list1 = [\"abc\", 23,45.45,232, 345, \"xyz\", 3+4j]\n",
    "result = []\n",
    "for e in list1:\n",
    "    if type(e)==int:\n",
    "        result.append(e)\n",
    "print(result)"
   ]
  },
  {
   "cell_type": "code",
   "execution_count": 1,
   "metadata": {},
   "outputs": [
    {
     "name": "stdout",
     "output_type": "stream",
     "text": [
      "1 2 3\n",
      "(5, 6, 7, 'Hi')\n",
      "{'Name': 'Abdullah', 'Country': 'Bangladesh'}\n"
     ]
    }
   ],
   "source": [
    "# different types of parameters in Python\n",
    "def print_params(x,y,z=5, *params, **keyparams):\n",
    "    print(x,y,z)\n",
    "    print(params)\n",
    "    print(keyparams)\n",
    "\n",
    "print_params(1,2,3,5,6,7,\"Hi\",Name=\"Abdullah\", Country=\"Bangladesh\")"
   ]
  },
  {
   "cell_type": "code",
   "execution_count": null,
   "metadata": {},
   "outputs": [],
   "source": []
  }
 ],
 "metadata": {
  "kernelspec": {
   "display_name": "Python 3",
   "language": "python",
   "name": "python3"
  },
  "language_info": {
   "codemirror_mode": {
    "name": "ipython",
    "version": 3
   },
   "file_extension": ".py",
   "mimetype": "text/x-python",
   "name": "python",
   "nbconvert_exporter": "python",
   "pygments_lexer": "ipython3",
   "version": "3.12.3"
  }
 },
 "nbformat": 4,
 "nbformat_minor": 2
}
