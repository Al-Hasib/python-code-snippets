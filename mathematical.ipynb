{
 "cells": [
  {
   "cell_type": "markdown",
   "metadata": {},
   "source": [
    "Create generator to produce first n Prime Numbers"
   ]
  },
  {
   "cell_type": "code",
   "execution_count": 3,
   "metadata": {},
   "outputs": [
    {
     "name": "stdout",
     "output_type": "stream",
     "text": [
      "15 Prime Numbers are : \n",
      "\n",
      "2 3 5 7 11 13 17 19 23 29 31 37 41 43 47 "
     ]
    }
   ],
   "source": [
    "def isprime(num):\n",
    "    for i in range(2, num):\n",
    "        if num%i==0:\n",
    "            return False\n",
    "    return True\n",
    "\n",
    "def prime_generator(n):\n",
    "    num = 2\n",
    "    while n:\n",
    "        if isprime(num):\n",
    "            yield num\n",
    "            n-=1\n",
    "        num+=1\n",
    "\n",
    "# number of prime numbers required\n",
    "numPrimeGenerate = 15\n",
    "it = prime_generator(numPrimeGenerate)\n",
    "print(f\"{numPrimeGenerate} Prime Numbers are : \\n\")\n",
    "for e in it:\n",
    "    print(e, end=\" \")"
   ]
  },
  {
   "cell_type": "markdown",
   "metadata": {},
   "source": [
    "Checking a given number is prime or not"
   ]
  },
  {
   "cell_type": "code",
   "execution_count": 8,
   "metadata": {},
   "outputs": [
    {
     "name": "stdout",
     "output_type": "stream",
     "text": [
      "37 is Prime: True\n"
     ]
    }
   ],
   "source": [
    "def isPrime(number):\n",
    "    Flag = False\n",
    "    if number<2:\n",
    "        return Flag\n",
    "    else:\n",
    "        for i in range(2,number):\n",
    "            if (number%i)==0:\n",
    "                return Flag\n",
    "\n",
    "        Flag=True\n",
    "        return Flag\n",
    "\n",
    "number = 37\n",
    "isPrime= isPrime(number)\n",
    "print(f\"{number} is Prime: {isPrime}\")"
   ]
  },
  {
   "cell_type": "markdown",
   "metadata": {},
   "source": [
    "Implementing Variable Length Arguments"
   ]
  },
  {
   "cell_type": "code",
   "execution_count": 9,
   "metadata": {},
   "outputs": [
    {
     "name": "stdout",
     "output_type": "stream",
     "text": [
      "Average of Result1 27.714285714285715\n",
      "Average of Result2 373.8888888888889\n"
     ]
    }
   ],
   "source": [
    "def average(*t):\n",
    "    avg = sum(t)/len(t)\n",
    "    return avg\n",
    "\n",
    "result1 = average(32,34,34,5,63,4,22)\n",
    "result2 = average(2,3,4,5,6,76,4,3242,23)\n",
    "\n",
    "print(\"Average of Result1\", result1)\n",
    "print(\"Average of Result2\", result2)"
   ]
  },
  {
   "cell_type": "code",
   "execution_count": 11,
   "metadata": {},
   "outputs": [
    {
     "name": "stdout",
     "output_type": "stream",
     "text": [
      "Average is : 129.33\n",
      "Average is : 87.33\n"
     ]
    }
   ],
   "source": [
    "def average_with_kwargs(**kwargs):\n",
    "    values = list(kwargs.values())\n",
    "    avg = sum(values)/len(values)\n",
    "    return avg\n",
    "\n",
    "result1 = average_with_kwargs(num1 = 23, num2 = 23, num3 = 342)\n",
    "result2 = average_with_kwargs(value1 = 5, value2 = 23, value3 = 234)\n",
    "\n",
    "print(f\"Average is : {result1:.2f}\")\n",
    "print(f\"Average is : {result2:.2f}\")"
   ]
  },
  {
   "cell_type": "markdown",
   "metadata": {},
   "source": [
    "Creating instance member variables"
   ]
  },
  {
   "cell_type": "code",
   "execution_count": 12,
   "metadata": {},
   "outputs": [
    {
     "name": "stdout",
     "output_type": "stream",
     "text": [
      "{'a': 5, 'b': 10, 'c': 15}\n",
      "{'a': 5}\n"
     ]
    }
   ],
   "source": [
    "class Test:\n",
    "    def __init__(self):\n",
    "        # 1st instance variable inside init function\n",
    "        self.a = 5\n",
    "    def f1(self):\n",
    "        self.b = 10\n",
    "t1 = Test()\n",
    "t2 = Test()\n",
    "\n",
    "t1.f1()\n",
    "#3rd instance variable\n",
    "t1.c = 15\n",
    "\n",
    "print(t1.__dict__)\n",
    "print(t2.__dict__)"
   ]
  },
  {
   "cell_type": "markdown",
   "metadata": {},
   "source": [
    "Lambda Function"
   ]
  },
  {
   "cell_type": "code",
   "execution_count": 14,
   "metadata": {},
   "outputs": [
    {
     "name": "stdout",
     "output_type": "stream",
     "text": [
      "10\n",
      "10\n"
     ]
    }
   ],
   "source": [
    "## Addition function to add two variables\n",
    "f = lambda a, b: a+b\n",
    "result = f(3,7)\n",
    "print(result)\n",
    "print((lambda a,b:a+b)(3,7)) # another way"
   ]
  },
  {
   "cell_type": "code",
   "execution_count": 16,
   "metadata": {},
   "outputs": [
    {
     "name": "stdout",
     "output_type": "stream",
     "text": [
      "Factorial of 6: 720\n"
     ]
    }
   ],
   "source": [
    "## finding factorial using lambda function\n",
    "f = lambda n:1 if n==0 else n*f(n-1)\n",
    "print(f\"Factorial of 6: {f(6)}\")"
   ]
  },
  {
   "cell_type": "markdown",
   "metadata": {},
   "source": [
    "List Compression (Create a list in single line)"
   ]
  },
  {
   "cell_type": "code",
   "execution_count": 19,
   "metadata": {},
   "outputs": [
    {
     "name": "stdout",
     "output_type": "stream",
     "text": [
      "[2, 4, 6, 8, 10, 12, 14, 16, 18, 20]\n",
      "[4, 34, 88, 90]\n"
     ]
    }
   ],
   "source": [
    "# list of even numbers \n",
    "l1 = [2*e for e in range(1,11)]\n",
    "print(l1)\n",
    "\n",
    "# create a list of even numbers from a given list\n",
    "l2 = [23,3,4,5,7,34,45,88,90]\n",
    "l2 = [e for e in l2 if e%2==0]\n",
    "print(l2)"
   ]
  },
  {
   "cell_type": "markdown",
   "metadata": {},
   "source": [
    "Type Conversion"
   ]
  },
  {
   "cell_type": "code",
   "execution_count": 20,
   "metadata": {},
   "outputs": [
    {
     "name": "stdout",
     "output_type": "stream",
     "text": [
      "<class 'int'> 123\n",
      "<class 'float'> 213.34\n",
      "<class 'complex'> (3+4j)\n",
      "<class 'str'> 12\n",
      "<class 'bool'> True\n",
      "<class 'str'> 0b11001\n",
      "<class 'str'> 0o31\n",
      "<class 'str'> 0x19\n",
      "<class 'int'> 65\n",
      "<class 'str'> b\n"
     ]
    }
   ],
   "source": [
    "x = int(\"123\")\n",
    "print(type(x), x)\n",
    "\n",
    "a = float(\"213.34\")\n",
    "print(type(a),a)\n",
    "\n",
    "b = complex(\"3+4j\")\n",
    "print(type(b),b)\n",
    "\n",
    "c = str(12)\n",
    "print(type(c),c)\n",
    "\n",
    "d = bool(\"True\")\n",
    "print(type(d),d)\n",
    "\n",
    "e = bin(25) #binary\n",
    "print(type(e),e)\n",
    "\n",
    "f = oct(25) #octal\n",
    "print(type(f),f)\n",
    "\n",
    "g = hex(25) # hexadecimal\n",
    "print(type(g),g)\n",
    "\n",
    "h = ord(\"A\") # character to unicode\n",
    "print(type(h),h)\n",
    "\n",
    "i = chr(98) # unicode to character\n",
    "print(type(i),i)"
   ]
  },
  {
   "cell_type": "code",
   "execution_count": null,
   "metadata": {},
   "outputs": [],
   "source": []
  }
 ],
 "metadata": {
  "kernelspec": {
   "display_name": "Python 3",
   "language": "python",
   "name": "python3"
  },
  "language_info": {
   "codemirror_mode": {
    "name": "ipython",
    "version": 3
   },
   "file_extension": ".py",
   "mimetype": "text/x-python",
   "name": "python",
   "nbconvert_exporter": "python",
   "pygments_lexer": "ipython3",
   "version": "3.12.3"
  }
 },
 "nbformat": 4,
 "nbformat_minor": 2
}
