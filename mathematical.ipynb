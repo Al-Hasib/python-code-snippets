{
 "cells": [
  {
   "cell_type": "markdown",
   "metadata": {},
   "source": [
    "Create generator to produce first n Prime Numbers"
   ]
  },
  {
   "cell_type": "code",
   "execution_count": 3,
   "metadata": {},
   "outputs": [
    {
     "name": "stdout",
     "output_type": "stream",
     "text": [
      "15 Prime Numbers are : \n",
      "\n",
      "2 3 5 7 11 13 17 19 23 29 31 37 41 43 47 "
     ]
    }
   ],
   "source": [
    "def isprime(num):\n",
    "    for i in range(2, num):\n",
    "        if num%i==0:\n",
    "            return False\n",
    "    return True\n",
    "\n",
    "def prime_generator(n):\n",
    "    num = 2\n",
    "    while n:\n",
    "        if isprime(num):\n",
    "            yield num\n",
    "            n-=1\n",
    "        num+=1\n",
    "\n",
    "# number of prime numbers required\n",
    "numPrimeGenerate = 15\n",
    "it = prime_generator(numPrimeGenerate)\n",
    "print(f\"{numPrimeGenerate} Prime Numbers are : \\n\")\n",
    "for e in it:\n",
    "    print(e, end=\" \")"
   ]
  },
  {
   "cell_type": "markdown",
   "metadata": {},
   "source": [
    "Checking a given number is prime or not"
   ]
  },
  {
   "cell_type": "code",
   "execution_count": 8,
   "metadata": {},
   "outputs": [
    {
     "name": "stdout",
     "output_type": "stream",
     "text": [
      "37 is Prime: True\n"
     ]
    }
   ],
   "source": [
    "def isPrime(number):\n",
    "    Flag = False\n",
    "    if number<2:\n",
    "        return Flag\n",
    "    else:\n",
    "        for i in range(2,number):\n",
    "            if (number%i)==0:\n",
    "                return Flag\n",
    "\n",
    "        Flag=True\n",
    "        return Flag\n",
    "\n",
    "number = 37\n",
    "isPrime= isPrime(number)\n",
    "print(f\"{number} is Prime: {isPrime}\")"
   ]
  },
  {
   "cell_type": "markdown",
   "metadata": {},
   "source": [
    "Implementing Variable Length Arguments"
   ]
  },
  {
   "cell_type": "code",
   "execution_count": 9,
   "metadata": {},
   "outputs": [
    {
     "name": "stdout",
     "output_type": "stream",
     "text": [
      "Average of Result1 27.714285714285715\n",
      "Average of Result2 373.8888888888889\n"
     ]
    }
   ],
   "source": [
    "def average(*t):\n",
    "    avg = sum(t)/len(t)\n",
    "    return avg\n",
    "\n",
    "result1 = average(32,34,34,5,63,4,22)\n",
    "result2 = average(2,3,4,5,6,76,4,3242,23)\n",
    "\n",
    "print(\"Average of Result1\", result1)\n",
    "print(\"Average of Result2\", result2)"
   ]
  },
  {
   "cell_type": "code",
   "execution_count": 11,
   "metadata": {},
   "outputs": [
    {
     "name": "stdout",
     "output_type": "stream",
     "text": [
      "Average is : 129.33\n",
      "Average is : 87.33\n"
     ]
    }
   ],
   "source": [
    "def average_with_kwargs(**kwargs):\n",
    "    values = list(kwargs.values())\n",
    "    avg = sum(values)/len(values)\n",
    "    return avg\n",
    "\n",
    "result1 = average_with_kwargs(num1 = 23, num2 = 23, num3 = 342)\n",
    "result2 = average_with_kwargs(value1 = 5, value2 = 23, value3 = 234)\n",
    "\n",
    "print(f\"Average is : {result1:.2f}\")\n",
    "print(f\"Average is : {result2:.2f}\")"
   ]
  },
  {
   "cell_type": "markdown",
   "metadata": {},
   "source": [
    "Creating instance member variables"
   ]
  },
  {
   "cell_type": "code",
   "execution_count": 12,
   "metadata": {},
   "outputs": [
    {
     "name": "stdout",
     "output_type": "stream",
     "text": [
      "{'a': 5, 'b': 10, 'c': 15}\n",
      "{'a': 5}\n"
     ]
    }
   ],
   "source": [
    "class Test:\n",
    "    def __init__(self):\n",
    "        # 1st instance variable inside init function\n",
    "        self.a = 5\n",
    "    def f1(self):\n",
    "        self.b = 10\n",
    "t1 = Test()\n",
    "t2 = Test()\n",
    "\n",
    "t1.f1()\n",
    "#3rd instance variable\n",
    "t1.c = 15\n",
    "\n",
    "print(t1.__dict__)\n",
    "print(t2.__dict__)"
   ]
  },
  {
   "cell_type": "markdown",
   "metadata": {},
   "source": [
    "Lambda Function"
   ]
  },
  {
   "cell_type": "code",
   "execution_count": 14,
   "metadata": {},
   "outputs": [
    {
     "name": "stdout",
     "output_type": "stream",
     "text": [
      "10\n",
      "10\n"
     ]
    }
   ],
   "source": [
    "## Addition function to add two variables\n",
    "f = lambda a, b: a+b\n",
    "result = f(3,7)\n",
    "print(result)\n",
    "print((lambda a,b:a+b)(3,7)) # another way"
   ]
  },
  {
   "cell_type": "code",
   "execution_count": 16,
   "metadata": {},
   "outputs": [
    {
     "name": "stdout",
     "output_type": "stream",
     "text": [
      "Factorial of 6: 720\n"
     ]
    }
   ],
   "source": [
    "## finding factorial using lambda function\n",
    "f = lambda n:1 if n==0 else n*f(n-1)\n",
    "print(f\"Factorial of 6: {f(6)}\")"
   ]
  },
  {
   "cell_type": "markdown",
   "metadata": {},
   "source": [
    "List Compression (Create a list in single line)"
   ]
  },
  {
   "cell_type": "code",
   "execution_count": 19,
   "metadata": {},
   "outputs": [
    {
     "name": "stdout",
     "output_type": "stream",
     "text": [
      "[2, 4, 6, 8, 10, 12, 14, 16, 18, 20]\n",
      "[4, 34, 88, 90]\n"
     ]
    }
   ],
   "source": [
    "# list of even numbers \n",
    "l1 = [2*e for e in range(1,11)]\n",
    "print(l1)\n",
    "\n",
    "# create a list of even numbers from a given list\n",
    "l2 = [23,3,4,5,7,34,45,88,90]\n",
    "l2 = [e for e in l2 if e%2==0]\n",
    "print(l2)"
   ]
  },
  {
   "cell_type": "markdown",
   "metadata": {},
   "source": [
    "Type Conversion"
   ]
  },
  {
   "cell_type": "code",
   "execution_count": 20,
   "metadata": {},
   "outputs": [
    {
     "name": "stdout",
     "output_type": "stream",
     "text": [
      "<class 'int'> 123\n",
      "<class 'float'> 213.34\n",
      "<class 'complex'> (3+4j)\n",
      "<class 'str'> 12\n",
      "<class 'bool'> True\n",
      "<class 'str'> 0b11001\n",
      "<class 'str'> 0o31\n",
      "<class 'str'> 0x19\n",
      "<class 'int'> 65\n",
      "<class 'str'> b\n"
     ]
    }
   ],
   "source": [
    "x = int(\"123\")\n",
    "print(type(x), x)\n",
    "\n",
    "a = float(\"213.34\")\n",
    "print(type(a),a)\n",
    "\n",
    "b = complex(\"3+4j\")\n",
    "print(type(b),b)\n",
    "\n",
    "c = str(12)\n",
    "print(type(c),c)\n",
    "\n",
    "d = bool(\"True\")\n",
    "print(type(d),d)\n",
    "\n",
    "e = bin(25) #binary\n",
    "print(type(e),e)\n",
    "\n",
    "f = oct(25) #octal\n",
    "print(type(f),f)\n",
    "\n",
    "g = hex(25) # hexadecimal\n",
    "print(type(g),g)\n",
    "\n",
    "h = ord(\"A\") # character to unicode\n",
    "print(type(h),h)\n",
    "\n",
    "i = chr(98) # unicode to character\n",
    "print(type(i),i)"
   ]
  },
  {
   "cell_type": "markdown",
   "metadata": {},
   "source": [
    "Check a number is prime or not"
   ]
  },
  {
   "cell_type": "code",
   "execution_count": 2,
   "metadata": {},
   "outputs": [
    {
     "name": "stdout",
     "output_type": "stream",
     "text": [
      "number is prime\n"
     ]
    }
   ],
   "source": [
    "number = int(input(\"enter your number: \"))\n",
    "for i in range(2,number):\n",
    "    if number%i==0:\n",
    "        print(\"number is not prime\")\n",
    "        break\n",
    "else:\n",
    "    print(\"number is prime\")"
   ]
  },
  {
   "cell_type": "markdown",
   "metadata": {},
   "source": [
    "Find GCD of two numbers"
   ]
  },
  {
   "cell_type": "code",
   "execution_count": 3,
   "metadata": {},
   "outputs": [
    {
     "data": {
      "text/plain": [
       "5"
      ]
     },
     "execution_count": 3,
     "metadata": {},
     "output_type": "execute_result"
    }
   ],
   "source": [
    "num1 = 235\n",
    "num2 = 875\n",
    "\n",
    "def gcd(a,b):\n",
    "    if a==0 or a==b:\n",
    "        return b\n",
    "    elif b==0:\n",
    "        return a\n",
    "    elif a>b:\n",
    "        return gcd(a-b,b)\n",
    "    return gcd(a,b-a)\n",
    "\n",
    "gcd(num1,num2)"
   ]
  },
  {
   "cell_type": "markdown",
   "metadata": {},
   "source": [
    "Check a number is palindrome or not"
   ]
  },
  {
   "cell_type": "code",
   "execution_count": 4,
   "metadata": {},
   "outputs": [
    {
     "name": "stdout",
     "output_type": "stream",
     "text": [
      "Palindrome\n"
     ]
    }
   ],
   "source": [
    "number = 1001\n",
    "m = number\n",
    "sum = 0\n",
    "\n",
    "while m!=0:\n",
    "    d = m%10\n",
    "    sum = sum*10+d\n",
    "    m=m//10\n",
    "\n",
    "if sum==number:\n",
    "    print(\"Palindrome\")\n",
    "else:\n",
    "    print(\"Not Palindrome\")"
   ]
  },
  {
   "cell_type": "markdown",
   "metadata": {},
   "source": [
    "Check if a number is spy number that means sum of its digits equal to the product of its digits"
   ]
  },
  {
   "cell_type": "code",
   "execution_count": 11,
   "metadata": {},
   "outputs": [
    {
     "name": "stdout",
     "output_type": "stream",
     "text": [
      "yes\n"
     ]
    }
   ],
   "source": [
    "n = 132\n",
    "original_number = n\n",
    "sum=0\n",
    "product = 1\n",
    "\n",
    "while n!=0:\n",
    "    digits = n%10\n",
    "    n = n//10\n",
    "    sum = sum+digits\n",
    "    product = product * digits\n",
    "\n",
    "if sum==product:\n",
    "    print(\"yes\")\n",
    "else:\n",
    "    print(\"No\")"
   ]
  },
  {
   "cell_type": "markdown",
   "metadata": {},
   "source": [
    "Check if a number is a special number. If sum of the digits plus product of the digits is equal to the original number."
   ]
  },
  {
   "cell_type": "code",
   "execution_count": 10,
   "metadata": {},
   "outputs": [
    {
     "name": "stdout",
     "output_type": "stream",
     "text": [
      "59 is a special number\n"
     ]
    }
   ],
   "source": [
    "n = 59\n",
    "sum_digits = 0\n",
    "prod_digits = 1\n",
    "original_number = n\n",
    "\n",
    "while n!=0:\n",
    "    digit = n%10\n",
    "    n = n//10\n",
    "    sum_digits +=digit\n",
    "    prod_digits *=digit\n",
    "\n",
    "if sum_digits+prod_digits == original_number:\n",
    "    print(f\"{original_number} is a special number\")\n",
    "else:\n",
    "    print(f\"{original_number} is not a special number\")"
   ]
  },
  {
   "cell_type": "markdown",
   "metadata": {},
   "source": [
    "Check if the number is Neon number, where summation of digits of the square number is same as the number.\n",
    "\n",
    "if number = 9\n",
    "square = 81\n",
    "summation of digits = 8+1 = 9"
   ]
  },
  {
   "cell_type": "code",
   "execution_count": 12,
   "metadata": {},
   "outputs": [
    {
     "name": "stdout",
     "output_type": "stream",
     "text": [
      "Yes\n"
     ]
    }
   ],
   "source": [
    "number = 9\n",
    "sq_number = number**2\n",
    "sum = 0\n",
    "while sq_number!=0:\n",
    "    digit = sq_number%10\n",
    "    sum = sum+digit\n",
    "    sq_number= sq_number//10\n",
    "\n",
    "if sum==number:\n",
    "    print(\"Yes\")\n",
    "else:\n",
    "    print(\"No\")\n"
   ]
  },
  {
   "cell_type": "markdown",
   "metadata": {},
   "source": [
    "Find Factors of a number"
   ]
  },
  {
   "cell_type": "code",
   "execution_count": 14,
   "metadata": {},
   "outputs": [
    {
     "name": "stdout",
     "output_type": "stream",
     "text": [
      "1 3 5 9 15 45 "
     ]
    }
   ],
   "source": [
    "number = 45\n",
    "for i in range(1,number+1):\n",
    "    if number%i==0:\n",
    "        print(i,end=\" \")"
   ]
  },
  {
   "cell_type": "markdown",
   "metadata": {},
   "source": [
    "Find if a number is a perfect number. A number is equal to sum of its factors or divisors, other than the number itself"
   ]
  },
  {
   "cell_type": "code",
   "execution_count": 3,
   "metadata": {},
   "outputs": [
    {
     "name": "stdout",
     "output_type": "stream",
     "text": [
      "Perfect number\n"
     ]
    }
   ],
   "source": [
    "number = 6\n",
    "sum = 0\n",
    "for i in range(1,number-1):\n",
    "    if number%i==0:\n",
    "        sum = sum+i\n",
    "if number==sum:\n",
    "    print(\"Perfect number\")\n",
    "else:\n",
    "    print(\"No\")"
   ]
  },
  {
   "cell_type": "markdown",
   "metadata": {},
   "source": [
    "A number is pronic which is the product of two consecutive numbers"
   ]
  },
  {
   "cell_type": "code",
   "execution_count": 5,
   "metadata": {},
   "outputs": [
    {
     "name": "stdout",
     "output_type": "stream",
     "text": [
      "7*8 = 56\n",
      "Pronic Number\n"
     ]
    }
   ],
   "source": [
    "number = 56\n",
    "fact = 0\n",
    "for i in range(1,number+1):\n",
    "    if (i*(i+1)==number):\n",
    "        print(f\"{i}*{i+1} = {number}\")\n",
    "        fact=i\n",
    "if fact>0:\n",
    "    print(\"Pronic Number\")\n",
    "else:\n",
    "    print(\"Not a Pronic Number\")"
   ]
  },
  {
   "cell_type": "markdown",
   "metadata": {},
   "source": [
    "Arithmetic Series"
   ]
  },
  {
   "cell_type": "code",
   "execution_count": 7,
   "metadata": {},
   "outputs": [
    {
     "name": "stdout",
     "output_type": "stream",
     "text": [
      "1+3+5+7+....+20\n",
      "Sum of Series:  420\n"
     ]
    }
   ],
   "source": [
    "# 1+3+5+7+....+n\n",
    "N = 20\n",
    "sum= 0\n",
    "a = 2\n",
    "for i in range(1,N+1):\n",
    "    sum = sum+a\n",
    "    a+=2\n",
    "print(f\"1+3+5+7+....+{N}\")\n",
    "print(\"Sum of Series: \", sum)"
   ]
  },
  {
   "cell_type": "code",
   "execution_count": 8,
   "metadata": {},
   "outputs": [
    {
     "name": "stdout",
     "output_type": "stream",
     "text": [
      "10+9+8+.....+N\n",
      "Sum of Series:  55\n"
     ]
    }
   ],
   "source": [
    "# 10+9+8+...+N\n",
    "N = 10\n",
    "sum = 0\n",
    "a = 10\n",
    "for i in range(1,N+1):\n",
    "    sum = sum+a\n",
    "    a-=1\n",
    "print(f\"10+9+8+.....+N\")\n",
    "print(\"Sum of Series: \", sum)"
   ]
  },
  {
   "attachments": {
    "image.png": {
     "image/png": "[encoded data removed]"
    }
   },
   "cell_type": "markdown",
   "metadata": {},
   "source": [
    "![](attachment:image.png)"
   ]
  },
  {
   "cell_type": "code",
   "execution_count": 9,
   "metadata": {},
   "outputs": [
    {
     "name": "stdout",
     "output_type": "stream",
     "text": [
      "Sum of Series:  88572\n"
     ]
    }
   ],
   "source": [
    "N = 10\n",
    "X = 3\n",
    "sum = 0\n",
    "for i in range(1, N+1):\n",
    "    sum = sum+ X**i\n",
    "print(\"Sum of Series: \",sum)"
   ]
  },
  {
   "cell_type": "code",
   "execution_count": 10,
   "metadata": {},
   "outputs": [
    {
     "name": "stdout",
     "output_type": "stream",
     "text": [
      "Sum of Series:  5.981112715901029e+55\n"
     ]
    }
   ],
   "source": [
    "# 9!/x + 13!/x + 17!/x....N\n",
    "import math\n",
    "N = 10\n",
    "X = 2\n",
    "a = 9\n",
    "for i in range(1, N+1):\n",
    "    sum = sum+math.factorial(a)/X\n",
    "    a+=4\n",
    "print(\"Sum of Series: \", sum)"
   ]
  },
  {
   "cell_type": "code",
   "execution_count": 11,
   "metadata": {},
   "outputs": [
    {
     "name": "stdout",
     "output_type": "stream",
     "text": [
      "2/10 + 4/9 + 6/8 + 8/7 + ..... + 20/1\n",
      "Sum of Series:  44.43730158730159\n"
     ]
    }
   ],
   "source": [
    "# 2/10 + 4/9 + 6/8 + 8/7 + ..... + 20/1\n",
    "N = 10\n",
    "sum = 0\n",
    "a = 2\n",
    "b= 10\n",
    "for i in range(1,N+1):\n",
    "    sum = sum + a/b\n",
    "    a+=2\n",
    "    b-=1\n",
    "print(\"2/10 + 4/9 + 6/8 + 8/7 + ..... + 20/1\")\n",
    "print(\"Sum of Series: \", sum)"
   ]
  },
  {
   "cell_type": "code",
   "execution_count": 12,
   "metadata": {},
   "outputs": [
    {
     "name": "stdout",
     "output_type": "stream",
     "text": [
      "Sum of Series 4194300\n"
     ]
    }
   ],
   "source": [
    "#2+4+8+16+....+N\n",
    "N = 20\n",
    "sum = 0\n",
    "a = 2\n",
    "for i in range(1,N+1):\n",
    "    sum = sum+a*2\n",
    "    a = a*2\n",
    "print(\"Sum of Series\", sum)"
   ]
  },
  {
   "cell_type": "code",
   "execution_count": null,
   "metadata": {},
   "outputs": [],
   "source": []
  }
 ],
 "metadata": {
  "kernelspec": {
   "display_name": "Python 3",
   "language": "python",
   "name": "python3"
  },
  "language_info": {
   "codemirror_mode": {
    "name": "ipython",
    "version": 3
   },
   "file_extension": ".py",
   "mimetype": "text/x-python",
   "name": "python",
   "nbconvert_exporter": "python",
   "pygments_lexer": "ipython3",
   "version": "3.12.3"
  }
 },
 "nbformat": 4,
 "nbformat_minor": 2
}
