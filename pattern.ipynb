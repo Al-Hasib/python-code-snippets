{
 "cells": [
  {
   "cell_type": "markdown",
   "metadata": {},
   "source": [
    "Building a Pyramid"
   ]
  },
  {
   "cell_type": "code",
   "execution_count": 2,
   "metadata": {},
   "outputs": [
    {
     "name": "stdout",
     "output_type": "stream",
     "text": [
      "     *\n",
      "    ***\n",
      "   *****\n",
      "  *******\n",
      " *********\n"
     ]
    }
   ],
   "source": [
    "def pyramid(n):\n",
    "    for i in range(n):\n",
    "        for j in range(i,n):\n",
    "            print(\" \", end=\"\")\n",
    "        for j in range(i+1):\n",
    "            print(\"*\",end=\"\")\n",
    "        for j in range(i):\n",
    "            print(\"*\",end=\"\")\n",
    "        print(\"\")\n",
    "pyramid(5)"
   ]
  },
  {
   "cell_type": "code",
   "execution_count": 5,
   "metadata": {},
   "outputs": [
    {
     "name": "stdout",
     "output_type": "stream",
     "text": [
      "    *\n",
      "   ***\n",
      "  *****\n",
      " *******\n",
      "*********\n",
      " *******\n",
      "  *****\n",
      "   ***\n",
      "    *\n"
     ]
    }
   ],
   "source": [
    "# enter a odd number\n",
    "num = 9\n",
    "cnt = num//2\n",
    "scnt = 1\n",
    "\n",
    "for i in range(cnt+1):\n",
    "    print(cnt*\" \" + \"*\"*scnt)\n",
    "    cnt = cnt-1\n",
    "    scnt = scnt+2\n",
    "\n",
    "scnt = num - 2\n",
    "cnt = 1\n",
    "for i in range(num//2):\n",
    "    print(cnt*\" \"+\"*\"*scnt)\n",
    "    scnt = scnt -2 \n",
    "    cnt = cnt+1"
   ]
  },
  {
   "cell_type": "code",
   "execution_count": null,
   "metadata": {},
   "outputs": [],
   "source": []
  }
 ],
 "metadata": {
  "kernelspec": {
   "display_name": "Python 3",
   "language": "python",
   "name": "python3"
  },
  "language_info": {
   "codemirror_mode": {
    "name": "ipython",
    "version": 3
   },
   "file_extension": ".py",
   "mimetype": "text/x-python",
   "name": "python",
   "nbconvert_exporter": "python",
   "pygments_lexer": "ipython3",
   "version": "3.12.3"
  }
 },
 "nbformat": 4,
 "nbformat_minor": 2
}
